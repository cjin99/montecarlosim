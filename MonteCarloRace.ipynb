{
  "nbformat": 4,
  "nbformat_minor": 0,
  "metadata": {
    "colab": {
      "name": "MonteCarloRace.ipynb",
      "provenance": [],
      "collapsed_sections": []
    },
    "kernelspec": {
      "name": "python3",
      "display_name": "Python 3"
    },
    "language_info": {
      "name": "python"
    }
  },
  "cells": [
    {
      "cell_type": "markdown",
      "metadata": {
        "id": "C75PnndKzWKb"
      },
      "source": [
        "Assume that our data frame has the NAME of the runner and the TIME they took in their previous races, ordered by DATE. Our logic is to get the rolling EWM and then to keep the last for each runner"
      ]
    },
    {
      "cell_type": "code",
      "metadata": {
        "colab": {
          "base_uri": "https://localhost:8080/"
        },
        "id": "24cis5wo56Of",
        "outputId": "68a536bc-ec29-4dbe-cc85-e87e7bab9b5b"
      },
      "source": [
        "## generate random date\n",
        "import datetime\n",
        "import random\n",
        "start_date = datetime.date(2020, 1, 1)\n",
        "end_date = datetime.date(2021, 2, 1)\n",
        "\n",
        "time_between_dates = end_date - start_date\n",
        "days_between_dates = time_between_dates.days\n",
        "random_number_of_days = random.randrange(days_between_dates)\n",
        "random_date = start_date + datetime.timedelta(days=random_number_of_days)\n",
        "print(random_date)                                             "
      ],
      "execution_count": 28,
      "outputs": [
        {
          "output_type": "stream",
          "text": [
            "2020-06-16\n"
          ],
          "name": "stdout"
        }
      ]
    },
    {
      "cell_type": "code",
      "metadata": {
        "colab": {
          "base_uri": "https://localhost:8080/"
        },
        "id": "B88oXRr79ZVl",
        "outputId": "0a80c113-68bc-4c7d-bd33-25325904bc30"
      },
      "source": [
        ""
      ],
      "execution_count": 24,
      "outputs": [
        {
          "output_type": "execute_result",
          "data": {
            "text/plain": [
              "datetime.date(2020, 4, 8)"
            ]
          },
          "metadata": {
            "tags": []
          },
          "execution_count": 24
        }
      ]
    },
    {
      "cell_type": "code",
      "metadata": {
        "id": "VSK3_qbLXRmT"
      },
      "source": [
        "\n",
        "import pandas as pd\n",
        "import numpy as np\n",
        "## convert it to data\n",
        "#df['DATE'] = pd.to_datetime(df.DATE)\n",
        "## sort by date\n",
        "#df.sort_values('DATE', inplace=True)\n",
        "#df['mean_tmp']=df.groupby('NAME')['TIME'].transform(lambda x: x.ewm(alpha=0.30).mean())\n",
        "#df['std_tmp']=df.groupby('NAME')['TIME'].transform(lambda x: x.ewm(alpha=0.30).std())\n",
        "## remove the NAN in Std\n",
        "#df.dropna(subset=['std_tmp'], inplace=True)\n",
        "## get the most recent observation of the EWM\n",
        "#runner= df.groupby('NAME')[['mean_tmp', 'std_tmp']].last()\n",
        "#runner.reset_index(inplace=True)\n",
        "#runner.columns = ['NAME', 'mean', 'std']\n",
        "#runner\n",
        "\n",
        "\n",
        "## A, 13.1, 12-01-2020\n",
        "## A, 13.2, 12-10-2020\n",
        "## "
      ],
      "execution_count": 15,
      "outputs": []
    },
    {
      "cell_type": "markdown",
      "metadata": {
        "id": "8SIpYilozhLc"
      },
      "source": [
        "Assume that we come up with the following mean and standard deviation for the 8 runners."
      ]
    },
    {
      "cell_type": "code",
      "metadata": {
        "colab": {
          "base_uri": "https://localhost:8080/",
          "height": 297
        },
        "id": "GJyf3gpszjQt",
        "outputId": "a79ef40c-b0c3-4578-d8d5-763b72178a09"
      },
      "source": [
        "runner = pd.DataFrame({'NAME':[\"A\",\"B\",\"C\",\"D\",\"E\",\"F\",\"G\",\"H\"],\n",
        "                       'mean': [13.11, 13.17, 12.99, 12.96, 13.25, 13.00, 13.40, 13.29],\n",
        "                       'std': [0.15, 0.15, 0.17, 0.20, 0.14, 0.16, 0.17, 0.2]})\n",
        "runner"
      ],
      "execution_count": 16,
      "outputs": [
        {
          "output_type": "execute_result",
          "data": {
            "text/html": [
              "<div>\n",
              "<style scoped>\n",
              "    .dataframe tbody tr th:only-of-type {\n",
              "        vertical-align: middle;\n",
              "    }\n",
              "\n",
              "    .dataframe tbody tr th {\n",
              "        vertical-align: top;\n",
              "    }\n",
              "\n",
              "    .dataframe thead th {\n",
              "        text-align: right;\n",
              "    }\n",
              "</style>\n",
              "<table border=\"1\" class=\"dataframe\">\n",
              "  <thead>\n",
              "    <tr style=\"text-align: right;\">\n",
              "      <th></th>\n",
              "      <th>NAME</th>\n",
              "      <th>mean</th>\n",
              "      <th>std</th>\n",
              "    </tr>\n",
              "  </thead>\n",
              "  <tbody>\n",
              "    <tr>\n",
              "      <th>0</th>\n",
              "      <td>A</td>\n",
              "      <td>13.11</td>\n",
              "      <td>0.15</td>\n",
              "    </tr>\n",
              "    <tr>\n",
              "      <th>1</th>\n",
              "      <td>B</td>\n",
              "      <td>13.17</td>\n",
              "      <td>0.15</td>\n",
              "    </tr>\n",
              "    <tr>\n",
              "      <th>2</th>\n",
              "      <td>C</td>\n",
              "      <td>12.99</td>\n",
              "      <td>0.17</td>\n",
              "    </tr>\n",
              "    <tr>\n",
              "      <th>3</th>\n",
              "      <td>D</td>\n",
              "      <td>12.96</td>\n",
              "      <td>0.20</td>\n",
              "    </tr>\n",
              "    <tr>\n",
              "      <th>4</th>\n",
              "      <td>E</td>\n",
              "      <td>13.25</td>\n",
              "      <td>0.14</td>\n",
              "    </tr>\n",
              "    <tr>\n",
              "      <th>5</th>\n",
              "      <td>F</td>\n",
              "      <td>13.00</td>\n",
              "      <td>0.16</td>\n",
              "    </tr>\n",
              "    <tr>\n",
              "      <th>6</th>\n",
              "      <td>G</td>\n",
              "      <td>13.40</td>\n",
              "      <td>0.17</td>\n",
              "    </tr>\n",
              "    <tr>\n",
              "      <th>7</th>\n",
              "      <td>H</td>\n",
              "      <td>13.29</td>\n",
              "      <td>0.20</td>\n",
              "    </tr>\n",
              "  </tbody>\n",
              "</table>\n",
              "</div>"
            ],
            "text/plain": [
              "  NAME   mean   std\n",
              "0    A  13.11  0.15\n",
              "1    B  13.17  0.15\n",
              "2    C  12.99  0.17\n",
              "3    D  12.96  0.20\n",
              "4    E  13.25  0.14\n",
              "5    F  13.00  0.16\n",
              "6    G  13.40  0.17\n",
              "7    H  13.29  0.20"
            ]
          },
          "metadata": {
            "tags": []
          },
          "execution_count": 16
        }
      ]
    },
    {
      "cell_type": "code",
      "metadata": {
        "colab": {
          "base_uri": "https://localhost:8080/",
          "height": 297
        },
        "id": "sXdqEtBTXXiv",
        "outputId": "d7602587-6fe9-4cb3-9214-df0e290791eb"
      },
      "source": [
        "# number of simulations\n",
        "np.random.seed(5)\n",
        "# number of simulations\n",
        "sims = 1000\n",
        "runner['monte_carlo'] = runner.apply(lambda x:np.random.normal(x['mean'], x['std'], sims), axis=1)\n",
        "runner"
      ],
      "execution_count": 17,
      "outputs": [
        {
          "output_type": "execute_result",
          "data": {
            "text/html": [
              "<div>\n",
              "<style scoped>\n",
              "    .dataframe tbody tr th:only-of-type {\n",
              "        vertical-align: middle;\n",
              "    }\n",
              "\n",
              "    .dataframe tbody tr th {\n",
              "        vertical-align: top;\n",
              "    }\n",
              "\n",
              "    .dataframe thead th {\n",
              "        text-align: right;\n",
              "    }\n",
              "</style>\n",
              "<table border=\"1\" class=\"dataframe\">\n",
              "  <thead>\n",
              "    <tr style=\"text-align: right;\">\n",
              "      <th></th>\n",
              "      <th>NAME</th>\n",
              "      <th>mean</th>\n",
              "      <th>std</th>\n",
              "      <th>monte_carlo</th>\n",
              "    </tr>\n",
              "  </thead>\n",
              "  <tbody>\n",
              "    <tr>\n",
              "      <th>0</th>\n",
              "      <td>A</td>\n",
              "      <td>13.11</td>\n",
              "      <td>0.15</td>\n",
              "      <td>[13.176184123032755, 13.060369477215886, 13.47...</td>\n",
              "    </tr>\n",
              "    <tr>\n",
              "      <th>1</th>\n",
              "      <td>B</td>\n",
              "      <td>13.17</td>\n",
              "      <td>0.15</td>\n",
              "      <td>[13.2514153541655, 13.230136844466045, 13.2779...</td>\n",
              "    </tr>\n",
              "    <tr>\n",
              "      <th>2</th>\n",
              "      <td>C</td>\n",
              "      <td>12.99</td>\n",
              "      <td>0.17</td>\n",
              "      <td>[13.053477246621568, 13.381068771608335, 12.63...</td>\n",
              "    </tr>\n",
              "    <tr>\n",
              "      <th>3</th>\n",
              "      <td>D</td>\n",
              "      <td>12.96</td>\n",
              "      <td>0.20</td>\n",
              "      <td>[12.54210336477075, 13.21492539692168, 12.4998...</td>\n",
              "    </tr>\n",
              "    <tr>\n",
              "      <th>4</th>\n",
              "      <td>E</td>\n",
              "      <td>13.25</td>\n",
              "      <td>0.14</td>\n",
              "      <td>[13.033248793320244, 13.281981203167181, 13.18...</td>\n",
              "    </tr>\n",
              "    <tr>\n",
              "      <th>5</th>\n",
              "      <td>F</td>\n",
              "      <td>13.00</td>\n",
              "      <td>0.16</td>\n",
              "      <td>[12.97901422717844, 13.01591314138514, 12.9421...</td>\n",
              "    </tr>\n",
              "    <tr>\n",
              "      <th>6</th>\n",
              "      <td>G</td>\n",
              "      <td>13.40</td>\n",
              "      <td>0.17</td>\n",
              "      <td>[13.48996718876471, 13.590274163503606, 13.382...</td>\n",
              "    </tr>\n",
              "    <tr>\n",
              "      <th>7</th>\n",
              "      <td>H</td>\n",
              "      <td>13.29</td>\n",
              "      <td>0.20</td>\n",
              "      <td>[13.249374380804586, 13.393153926554637, 12.99...</td>\n",
              "    </tr>\n",
              "  </tbody>\n",
              "</table>\n",
              "</div>"
            ],
            "text/plain": [
              "  NAME   mean   std                                        monte_carlo\n",
              "0    A  13.11  0.15  [13.176184123032755, 13.060369477215886, 13.47...\n",
              "1    B  13.17  0.15  [13.2514153541655, 13.230136844466045, 13.2779...\n",
              "2    C  12.99  0.17  [13.053477246621568, 13.381068771608335, 12.63...\n",
              "3    D  12.96  0.20  [12.54210336477075, 13.21492539692168, 12.4998...\n",
              "4    E  13.25  0.14  [13.033248793320244, 13.281981203167181, 13.18...\n",
              "5    F  13.00  0.16  [12.97901422717844, 13.01591314138514, 12.9421...\n",
              "6    G  13.40  0.17  [13.48996718876471, 13.590274163503606, 13.382...\n",
              "7    H  13.29  0.20  [13.249374380804586, 13.393153926554637, 12.99..."
            ]
          },
          "metadata": {
            "tags": []
          },
          "execution_count": 17
        }
      ]
    },
    {
      "cell_type": "markdown",
      "metadata": {
        "id": "ZjHy-oT9zMIw"
      },
      "source": [
        "Once we simulated the data, we can get the probability of each runner to win."
      ]
    },
    {
      "cell_type": "code",
      "metadata": {
        "colab": {
          "base_uri": "https://localhost:8080/",
          "height": 297
        },
        "id": "SonyG6NCynUn",
        "outputId": "37411e2b-84d1-47f2-decb-7bb7eee59f79"
      },
      "source": [
        "# Probability to finish in top x positions\n",
        "top_x = 1\n",
        "tmp_probs = pd.DataFrame((pd.DataFrame(list(runner['monte_carlo']),index=runner.NAME).rank()<=top_x).sum(axis=1)/sims)\n",
        "tmp_probs.reset_index(inplace=True)\n",
        "tmp_probs.columns=['NAME', 'Probability']\n",
        "tmp_probs"
      ],
      "execution_count": 18,
      "outputs": [
        {
          "output_type": "execute_result",
          "data": {
            "text/html": [
              "<div>\n",
              "<style scoped>\n",
              "    .dataframe tbody tr th:only-of-type {\n",
              "        vertical-align: middle;\n",
              "    }\n",
              "\n",
              "    .dataframe tbody tr th {\n",
              "        vertical-align: top;\n",
              "    }\n",
              "\n",
              "    .dataframe thead th {\n",
              "        text-align: right;\n",
              "    }\n",
              "</style>\n",
              "<table border=\"1\" class=\"dataframe\">\n",
              "  <thead>\n",
              "    <tr style=\"text-align: right;\">\n",
              "      <th></th>\n",
              "      <th>NAME</th>\n",
              "      <th>Probability</th>\n",
              "    </tr>\n",
              "  </thead>\n",
              "  <tbody>\n",
              "    <tr>\n",
              "      <th>0</th>\n",
              "      <td>A</td>\n",
              "      <td>0.071</td>\n",
              "    </tr>\n",
              "    <tr>\n",
              "      <th>1</th>\n",
              "      <td>B</td>\n",
              "      <td>0.040</td>\n",
              "    </tr>\n",
              "    <tr>\n",
              "      <th>2</th>\n",
              "      <td>C</td>\n",
              "      <td>0.262</td>\n",
              "    </tr>\n",
              "    <tr>\n",
              "      <th>3</th>\n",
              "      <td>D</td>\n",
              "      <td>0.348</td>\n",
              "    </tr>\n",
              "    <tr>\n",
              "      <th>4</th>\n",
              "      <td>E</td>\n",
              "      <td>0.016</td>\n",
              "    </tr>\n",
              "    <tr>\n",
              "      <th>5</th>\n",
              "      <td>F</td>\n",
              "      <td>0.237</td>\n",
              "    </tr>\n",
              "    <tr>\n",
              "      <th>6</th>\n",
              "      <td>G</td>\n",
              "      <td>0.004</td>\n",
              "    </tr>\n",
              "    <tr>\n",
              "      <th>7</th>\n",
              "      <td>H</td>\n",
              "      <td>0.022</td>\n",
              "    </tr>\n",
              "  </tbody>\n",
              "</table>\n",
              "</div>"
            ],
            "text/plain": [
              "  NAME  Probability\n",
              "0    A        0.071\n",
              "1    B        0.040\n",
              "2    C        0.262\n",
              "3    D        0.348\n",
              "4    E        0.016\n",
              "5    F        0.237\n",
              "6    G        0.004\n",
              "7    H        0.022"
            ]
          },
          "metadata": {
            "tags": []
          },
          "execution_count": 18
        }
      ]
    },
    {
      "cell_type": "markdown",
      "metadata": {
        "id": "sYaBjDpKzGJe"
      },
      "source": [
        "Similarly, we can estimate the probability of each runner to be on the podium, i.e. in the top 3 positions."
      ]
    },
    {
      "cell_type": "code",
      "metadata": {
        "colab": {
          "base_uri": "https://localhost:8080/",
          "height": 297
        },
        "id": "40cUAMI0ysGf",
        "outputId": "6f522460-061e-44c7-b82c-d84b13cb731f"
      },
      "source": [
        "# Probability to finish in top x positions \n",
        "top_x = 3 # in top three positions\n",
        "tmp_probs = pd.DataFrame((pd.DataFrame(list(runner['monte_carlo']),index=runner.NAME).rank()<=top_x).sum(axis=1)/sims)\n",
        "tmp_probs.reset_index(inplace=True)\n",
        "tmp_probs.columns=['NAME', 'Probability']\n",
        "tmp_probs"
      ],
      "execution_count": 19,
      "outputs": [
        {
          "output_type": "execute_result",
          "data": {
            "text/html": [
              "<div>\n",
              "<style scoped>\n",
              "    .dataframe tbody tr th:only-of-type {\n",
              "        vertical-align: middle;\n",
              "    }\n",
              "\n",
              "    .dataframe tbody tr th {\n",
              "        vertical-align: top;\n",
              "    }\n",
              "\n",
              "    .dataframe thead th {\n",
              "        text-align: right;\n",
              "    }\n",
              "</style>\n",
              "<table border=\"1\" class=\"dataframe\">\n",
              "  <thead>\n",
              "    <tr style=\"text-align: right;\">\n",
              "      <th></th>\n",
              "      <th>NAME</th>\n",
              "      <th>Probability</th>\n",
              "    </tr>\n",
              "  </thead>\n",
              "  <tbody>\n",
              "    <tr>\n",
              "      <th>0</th>\n",
              "      <td>A</td>\n",
              "      <td>0.390</td>\n",
              "    </tr>\n",
              "    <tr>\n",
              "      <th>1</th>\n",
              "      <td>B</td>\n",
              "      <td>0.242</td>\n",
              "    </tr>\n",
              "    <tr>\n",
              "      <th>2</th>\n",
              "      <td>C</td>\n",
              "      <td>0.699</td>\n",
              "    </tr>\n",
              "    <tr>\n",
              "      <th>3</th>\n",
              "      <td>D</td>\n",
              "      <td>0.693</td>\n",
              "    </tr>\n",
              "    <tr>\n",
              "      <th>4</th>\n",
              "      <td>E</td>\n",
              "      <td>0.120</td>\n",
              "    </tr>\n",
              "    <tr>\n",
              "      <th>5</th>\n",
              "      <td>F</td>\n",
              "      <td>0.688</td>\n",
              "    </tr>\n",
              "    <tr>\n",
              "      <th>6</th>\n",
              "      <td>G</td>\n",
              "      <td>0.033</td>\n",
              "    </tr>\n",
              "    <tr>\n",
              "      <th>7</th>\n",
              "      <td>H</td>\n",
              "      <td>0.135</td>\n",
              "    </tr>\n",
              "  </tbody>\n",
              "</table>\n",
              "</div>"
            ],
            "text/plain": [
              "  NAME  Probability\n",
              "0    A        0.390\n",
              "1    B        0.242\n",
              "2    C        0.699\n",
              "3    D        0.693\n",
              "4    E        0.120\n",
              "5    F        0.688\n",
              "6    G        0.033\n",
              "7    H        0.135"
            ]
          },
          "metadata": {
            "tags": []
          },
          "execution_count": 19
        }
      ]
    },
    {
      "cell_type": "code",
      "metadata": {
        "id": "WBPibHSryxFP"
      },
      "source": [
        ""
      ],
      "execution_count": null,
      "outputs": []
    }
  ]
}